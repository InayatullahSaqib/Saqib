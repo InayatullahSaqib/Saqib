{
 "cells": [
  {
   "cell_type": "markdown",
   "id": "b7f5d400-5d7d-4a6a-b2b6-a0bde46ec411",
   "metadata": {
    "tags": []
   },
   "source": [
    "# Data Science and Ecosystem"
   ]
  },
  {
   "cell_type": "code",
   "execution_count": null,
   "id": "ee348c81-01ec-4e08-b71e-7ccb56e7a208",
   "metadata": {
    "tags": []
   },
   "outputs": [],
   "source": [
    "> In this notebook,Data Science Tools and Ecosystem are summarized"
   ]
  },
  {
   "cell_type": "code",
   "execution_count": null,
   "id": "2282f2ae-4c73-4407-9540-83fb70a1787f",
   "metadata": {},
   "outputs": [],
   "source": [
    "> Some of the popular languages that Data Scientists use are:\n",
    "1. Phython\n",
    "2. R\n",
    "3. Java"
   ]
  },
  {
   "cell_type": "code",
   "execution_count": null,
   "id": "137b5af3-7c53-47dd-bf4b-6419895dfabc",
   "metadata": {},
   "outputs": [],
   "source": [
    "> Some of the commonly used libraries used by Data Scientists include:\n",
    "1. Pandas\n",
    "2. Nampy\n",
    "3. Matplotlib\n",
    "4. Seaborn\n",
    "5. Keras\n"
   ]
  },
  {
   "cell_type": "code",
   "execution_count": null,
   "id": "bace2c07-e301-4045-8c5f-3a956a03acc3",
   "metadata": {},
   "outputs": [],
   "source": [
    "|Data Science Tools|\n",
    "|------------------|\n",
    "|Phython|\n",
    "|Apachi Spark|\n",
    "|Tensorflow|"
   ]
  },
  {
   "cell_type": "code",
   "execution_count": null,
   "id": "3fd5f722-f5e4-4222-bd52-5fca0d6851e0",
   "metadata": {},
   "outputs": [],
   "source": [
    "### Below are a few examples of evaluating arithmetic expressions in Python\n",
    "\n",
    "|Operatior|Name|example|\n",
    "|---------|----|-------|\n",
    "|+|Addition|x+y|\n",
    "|-|Subtraction|x-y|\n",
    "|*|Multipliction|x*y|\n",
    "|/|Division|x/y|\n",
    "|/|Modulus|x%y|"
   ]
  },
  {
   "cell_type": "code",
   "execution_count": null,
   "id": "2d77770e-6eef-476a-a5da-fd959741e5cc",
   "metadata": {},
   "outputs": [],
   "source": [
    "### This a simple arithmetic expression to mutiply then add integers\n",
    "#### Assign the value 3 to the variable x\n",
    "x = 3\n",
    "#### Assign the value 4 to the variable y\n",
    "y = 4\n",
    "#### Assign the value 5 to the variable z\n",
    "z = 5\n",
    "#### Multiply x and y then add z and store the result in the variable 'result'\n",
    "result = (x * y) + z\n",
    "#### Print the value stored in 'result'\n",
    "print (result)"
   ]
  },
  {
   "cell_type": "markdown",
   "id": "424b9a00-6fc5-4762-a24b-cf43921a1ff3",
   "metadata": {},
   "source": [
    "#### This will convert 200 minutes to hours by diving by 60\n",
    "timeinminutes = 200\n",
    "timeinhours = (200/60)\n",
    "print (timeinhours)\n"
   ]
  },
  {
   "cell_type": "markdown",
   "id": "64575727-e95b-4952-ab1f-014f8c594fa7",
   "metadata": {},
   "source": [
    "**Objectives**\n",
    "#### List popular languages for Data SciencePhython\n",
    "\n",
    "* Java\n",
    "* Phython\n",
    "* R\n",
    "\n"
   ]
  },
  {
   "cell_type": "code",
   "execution_count": null,
   "id": "117dd335-4565-4a9a-9bee-6f42092ceef3",
   "metadata": {},
   "outputs": [],
   "source": [
    "## Author: \n",
    "Inayatullah Saqib"
   ]
  },
  {
   "cell_type": "code",
   "execution_count": null,
   "id": "910039ec-3595-4106-b341-a3df7bfd0409",
   "metadata": {},
   "outputs": [],
   "source": []
  }
 ],
 "metadata": {
  "kernelspec": {
   "display_name": "Python",
   "language": "python",
   "name": "conda-env-python-py"
  },
  "language_info": {
   "codemirror_mode": {
    "name": "ipython",
    "version": 3
   },
   "file_extension": ".py",
   "mimetype": "text/x-python",
   "name": "python",
   "nbconvert_exporter": "python",
   "pygments_lexer": "ipython3",
   "version": "3.7.12"
  }
 },
 "nbformat": 4,
 "nbformat_minor": 5
}
